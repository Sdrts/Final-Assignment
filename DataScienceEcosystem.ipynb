{
 "cells": [
  {
   "cell_type": "markdown",
   "id": "c41e8788-acab-4328-a15c-11b4d9eb9ee7",
   "metadata": {},
   "source": [
    "# Data Science Tools and Ecosystem"
   ]
  },
  {
   "cell_type": "markdown",
   "id": "3ed70ded-8a6d-43d6-98ae-eaa00f91df7c",
   "metadata": {},
   "source": [
    "## In this notebook, Data Science Tools and Ecosystem are summarized"
   ]
  },
  {
   "cell_type": "markdown",
   "id": "96db3dec-0fa3-4a6d-ac99-26ed323cb811",
   "metadata": {},
   "source": [
    "Objectives:\n",
    "+ List the popular languages that Data Scientists use\n",
    "+ List the commonly used libraries used by Data Scientists\n",
    "+ Use code cells to input basic arithmetic ecuations and recieve the correct output"
   ]
  },
  {
   "cell_type": "markdown",
   "id": "1d7e761a-2687-4ea8-9764-f224c6edeff0",
   "metadata": {},
   "source": [
    "### Some of the popular languages that Data Scientists use are:\n",
    "1. Python\n",
    "2. R\n",
    "3. SQL\n",
    "4. Julia\n",
    "5. Scala\n",
    "6. Java\n",
    "7. Matlab"
   ]
  },
  {
   "cell_type": "markdown",
   "id": "90735f8a-f4ed-4ea4-bafc-b34d49a126b2",
   "metadata": {},
   "source": [
    "### Some of the commonly used libraries used by Data Scientists include:\n",
    "1. Pandas\n",
    "2. NumPy\n",
    "3. Matplotlib\n",
    "4. Plotly\n"
   ]
  },
  {
   "cell_type": "markdown",
   "id": "1fd41a70-3422-47d8-919f-aeef9c4694cd",
   "metadata": {
    "scrolled": true
   },
   "source": [
    "| Data Science Tools |\n",
    "|--------------------|\n",
    "| Jupyer Notebook |\n",
    "| Jupyter Lab |\n",
    "| Pycharm |\n",
    "| VS Code |"
   ]
  },
  {
   "cell_type": "markdown",
   "id": "0b017d8d-31a0-422f-89cc-b87069c5b751",
   "metadata": {},
   "source": [
    "### Below are a few examples of evaluating arithmetic expressions in Python.\n",
    "\n"
   ]
  },
  {
   "cell_type": "code",
   "execution_count": 17,
   "id": "87196054-3462-4316-bc0c-ddfd04d8b566",
   "metadata": {},
   "outputs": [
    {
     "data": {
      "text/plain": [
       "17"
      ]
     },
     "execution_count": 17,
     "metadata": {},
     "output_type": "execute_result"
    }
   ],
   "source": [
    "#This is a simple arithmetic expression to multiply then add integers\n",
    "(3*4)+5\n"
   ]
  },
  {
   "cell_type": "code",
   "execution_count": 19,
   "id": "b822fee7-a8c2-4ce0-9e06-7b450b97607d",
   "metadata": {},
   "outputs": [
    {
     "data": {
      "text/plain": [
       "3.3333333333333335"
      ]
     },
     "execution_count": 19,
     "metadata": {},
     "output_type": "execute_result"
    }
   ],
   "source": [
    "#This will convert 200 minutes to hours by diving by 60.\n",
    "(200/60)"
   ]
  },
  {
   "cell_type": "markdown",
   "id": "c08c9d6b-e2f4-44c7-b0c4-9f1105c329a5",
   "metadata": {},
   "source": [
    "## Author\n",
    "    Yamil Bastian Leiva Lara"
   ]
  },
  {
   "cell_type": "code",
   "execution_count": null,
   "id": "fb8f445d-4d36-4f1a-9f22-6b58724ef422",
   "metadata": {},
   "outputs": [],
   "source": []
  }
 ],
 "metadata": {
  "kernelspec": {
   "display_name": "Python [conda env:base] *",
   "language": "python",
   "name": "conda-base-py"
  },
  "language_info": {
   "codemirror_mode": {
    "name": "ipython",
    "version": 3
   },
   "file_extension": ".py",
   "mimetype": "text/x-python",
   "name": "python",
   "nbconvert_exporter": "python",
   "pygments_lexer": "ipython3",
   "version": "3.12.7"
  }
 },
 "nbformat": 4,
 "nbformat_minor": 5
}
